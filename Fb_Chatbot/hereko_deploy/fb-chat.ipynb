{
 "cells": [
  {
   "cell_type": "code",
   "execution_count": 3,
   "metadata": {},
   "outputs": [
    {
     "ename": "ModuleNotFoundError",
     "evalue": "No module named 'pymessenger'",
     "output_type": "error",
     "traceback": [
      "\u001b[1;31m---------------------------------------------------------------------------\u001b[0m",
      "\u001b[1;31mModuleNotFoundError\u001b[0m                       Traceback (most recent call last)",
      "\u001b[1;32m<ipython-input-3-9152835bf5f3>\u001b[0m in \u001b[0;36m<module>\u001b[1;34m\u001b[0m\n\u001b[0;32m      1\u001b[0m \u001b[1;32mfrom\u001b[0m \u001b[0mflask\u001b[0m \u001b[1;32mimport\u001b[0m \u001b[0mFlask\u001b[0m\u001b[1;33m,\u001b[0m\u001b[0mrequest\u001b[0m\u001b[1;33m\u001b[0m\u001b[1;33m\u001b[0m\u001b[0m\n\u001b[1;32m----> 2\u001b[1;33m \u001b[1;32mfrom\u001b[0m \u001b[0mpymessenger\u001b[0m\u001b[1;33m.\u001b[0m\u001b[0mbot\u001b[0m \u001b[1;32mimport\u001b[0m \u001b[0mBot\u001b[0m\u001b[1;33m\u001b[0m\u001b[1;33m\u001b[0m\u001b[0m\n\u001b[0m\u001b[0;32m      3\u001b[0m \u001b[1;33m\u001b[0m\u001b[0m\n\u001b[0;32m      4\u001b[0m \u001b[0mapp\u001b[0m \u001b[1;33m=\u001b[0m \u001b[0mFlask\u001b[0m\u001b[1;33m(\u001b[0m\u001b[1;34m\"hello\"\u001b[0m\u001b[1;33m)\u001b[0m\u001b[1;33m\u001b[0m\u001b[1;33m\u001b[0m\u001b[0m\n\u001b[0;32m      5\u001b[0m \u001b[1;33m\u001b[0m\u001b[0m\n",
      "\u001b[1;31mModuleNotFoundError\u001b[0m: No module named 'pymessenger'"
     ]
    }
   ],
   "source": [
    "from flask import Flask,request\n",
    "from pymessenger.bot import Bot\n",
    "\n",
    "app = Flask(\"hello\")\n",
    "\n",
    "VERIFY_TOKEN = \"1234567890\"\n",
    "ACCESS_TOKEN = \"EAAoY5bXvl7IBAHG0gzPBlHAw5PIfdZC5ZBuP6Eyz3blBD1ZC0FiV560H2Mn8erU2ArNxlvQQCXHkpFXvZCm5aYZCVvvwZBWe9sZBGRpz1mcMkZCHzQg0ivh6EM4agzkYqDHQZBR4YbPUbjw15ZA2GolE26t0evruPca4MsoyqRREuujKT4PdEl6Yqq\"\n",
    "\n",
    "pybot = Bot(ACCESS_TOKEN)"
   ]
  },
  {
   "cell_type": "code",
   "execution_count": null,
   "metadata": {},
   "outputs": [],
   "source": [
    "@app.route(\"/check/\",methods=[\"GET\"])\n",
    "def sayhi():\n",
    "    return \"working\"\n",
    "\n",
    "@app.route(\"/callback/\",mathods=[\"GET\"])\n",
    "def get_callback():\n",
    "    if VERIFY_TOKEN == request.args.get(\"hub.verify_token\"):\n",
    "        return request.args.get(\"hub.challenge\")\n",
    "    else:\n",
    "        return \"not-working\"\n",
    "\n",
    "@app.route(\"/callback/\",mathods=[\"POST\"])\n",
    "def post_callback():\n",
    "    output = request.get_json()\n",
    "    \n",
    "    for entry in output.get(\"entry\"):\n",
    "        if \"messaging\" in entry:\n",
    "            for messaging in entry.get(\"messaging\"):\n",
    "                sender = messaging.get(\"sender\").get(\"id\")\n",
    "                recipient = messaging.get(\"recipient\").get(\"id\")\n",
    "                \n",
    "                text = \"You sent an attachment\"\n",
    "                \n",
    "                if \"text\" in messaging.get(\"message\"):\n",
    "                    text = messaging.get(\"message\").get(\"text\")\n",
    "                print(sender,recipient,text)\n",
    "                \n",
    "                pybot.send_text_message(sender,text)\n",
    "    \n",
    "    return \"done\""
   ]
  },
  {
   "cell_type": "code",
   "execution_count": null,
   "metadata": {},
   "outputs": [],
   "source": [
    "app.run()"
   ]
  }
 ],
 "metadata": {
  "kernelspec": {
   "display_name": "Python 3",
   "language": "python",
   "name": "python3"
  },
  "language_info": {
   "codemirror_mode": {
    "name": "ipython",
    "version": 3
   },
   "file_extension": ".py",
   "mimetype": "text/x-python",
   "name": "python",
   "nbconvert_exporter": "python",
   "pygments_lexer": "ipython3",
   "version": "3.7.1"
  }
 },
 "nbformat": 4,
 "nbformat_minor": 4
}
