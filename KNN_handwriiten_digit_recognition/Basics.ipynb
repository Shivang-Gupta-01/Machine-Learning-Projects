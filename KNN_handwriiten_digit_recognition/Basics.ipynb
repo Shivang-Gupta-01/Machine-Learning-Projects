{
 "cells": [
  {
   "cell_type": "code",
   "execution_count": 42,
   "metadata": {},
   "outputs": [
    {
     "name": "stdout",
     "output_type": "stream",
     "text": [
      "Using matplotlib backend: Qt5Agg\n",
      "Populating the interactive namespace from numpy and matplotlib\n"
     ]
    }
   ],
   "source": [
    "import numpy as np\n",
    "import matplotlib.pyplot as plt\n",
    "%pylab\n",
    "from mpl_toolkits import mplot3d\n",
    "from sklearn.datasets import make_blobs\n",
    "from sklearn.model_selection import train_test_split"
   ]
  },
  {
   "cell_type": "code",
   "execution_count": 2,
   "metadata": {},
   "outputs": [],
   "source": [
    "data = np.load(r'C:\\Users\\shivang\\Desktop\\PROJECTS\\Python-ML\\datasets\\mnist_train_small.npy')"
   ]
  },
  {
   "cell_type": "code",
   "execution_count": 3,
   "metadata": {},
   "outputs": [
    {
     "data": {
      "text/plain": [
       "array([[5, 0, 0, ..., 0, 0, 0],\n",
       "       [7, 0, 0, ..., 0, 0, 0],\n",
       "       [9, 0, 0, ..., 0, 0, 0],\n",
       "       ...,\n",
       "       [2, 0, 0, ..., 0, 0, 0],\n",
       "       [9, 0, 0, ..., 0, 0, 0],\n",
       "       [5, 0, 0, ..., 0, 0, 0]], dtype=uint8)"
      ]
     },
     "execution_count": 3,
     "metadata": {},
     "output_type": "execute_result"
    }
   ],
   "source": [
    "data # thew first column is the y and rest 28*28 columns are the features/parmaters"
   ]
  },
  {
   "cell_type": "code",
   "execution_count": 4,
   "metadata": {},
   "outputs": [
    {
     "data": {
      "text/plain": [
       "(19999, 785)"
      ]
     },
     "execution_count": 4,
     "metadata": {},
     "output_type": "execute_result"
    }
   ],
   "source": [
    "data.shape # this is numbber of examples * the no. of features of the model"
   ]
  },
  {
   "cell_type": "code",
   "execution_count": 5,
   "metadata": {},
   "outputs": [
    {
     "data": {
      "text/plain": [
       "array([  5,   0,   0,   0,   0,   0,   0,   0,   0,   0,   0,   0,   0,\n",
       "         0,   0,   0,   0,   0,   0,   0,   0,   0,   0,   0,   0,   0,\n",
       "         0,   0,   0,   0,   0,   0,   0,   0,   0,   0,   0,   0,   0,\n",
       "         0,   0,   0,   0,   0,   0,   0,   0,   0,   0,   0,   0,   0,\n",
       "         0,   0,   0,   0,   0,   0,   0,   0,   0,   0,   0,   0,   0,\n",
       "         0,   0,   0,   0,   0,   0,   0,   0,   0,   0,   0,   0,   0,\n",
       "         0,   0,   0,   0,   0,   0,   0,   0,   0,   0,   0,   0,   0,\n",
       "         0,   0,   0,   0,   0,   0,   0,   0,   0,   0,   0,   0,   0,\n",
       "         0,   0,   0,   0,   0,   0,   0,   0,   0,   0,   0,   0,   0,\n",
       "         0,   0,   0,   0,   0,   0,   0,   0,   0,   0,   0,   0,   0,\n",
       "         0,   0,   0,   0,   0,   0,   0,   0,   0,   0,   0,   0,   0,\n",
       "         0,   0,   0,   0,   0,   0,   0,   0,   0,  28,  59,  50,   0,\n",
       "        23,   0,   0,  32, 134, 180, 254, 206,   8,   0,   0,   0,   0,\n",
       "         0,   0,   0,   0,   0,   0,   0,   0,   4,  96, 216, 233, 254,\n",
       "       248, 215, 231, 215, 215, 236, 254, 250, 181,  27,   0,   0,   0,\n",
       "         0,   0,   0,   0,   0,   0,   0,   0,   0,   0, 108, 254, 254,\n",
       "       247, 175, 175, 175, 176, 175, 175, 205, 175,  60,   0,   0,   0,\n",
       "         0,   0,   0,   0,   0,   0,   0,   0,   0,   0,   0,   0,  47,\n",
       "       254, 245,  85,   0,   0,   0,   0,   0,   0,   8,   0,   0,   0,\n",
       "         0,   0,   0,   0,   0,   0,   0,   0,   0,   0,   0,   0,   0,\n",
       "         0, 152, 254, 158,   0,   0,   0,   0,   0,   0,   0,   0,   0,\n",
       "         0,   0,   0,   0,   0,   0,   0,   0,   0,   0,   0,   0,   0,\n",
       "         0,   0,  19, 240, 255,  38,   0,  41,  50,   0,   0,   0,   0,\n",
       "         0,   0,   0,   0,   0,   0,   0,   0,   0,   0,   0,   0,   0,\n",
       "         0,   0,   0,   0,  87, 254, 254, 178, 215, 242, 248, 215,  96,\n",
       "        19,   0,   0,   0,   0,   0,   0,   0,   0,   0,   0,   0,   0,\n",
       "         0,   0,   0,   0,   0,   0, 176, 254, 254, 254, 217, 175, 187,\n",
       "       254, 254, 248,  85,   0,   0,   0,   0,   0,   0,   0,   0,   0,\n",
       "         0,   0,   0,   0,   0,   0,   0,   0, 161, 247, 214,  57,  11,\n",
       "         0,   3,  19, 177, 248, 248, 129,   9,   0,   0,   0,   0,   0,\n",
       "         0,   0,   0,   0,   0,   0,   0,   0,   0,   0,  18,  49,   0,\n",
       "         0,   0,   0,   0,   0,   0,  57, 224, 254, 171,   0,   0,   0,\n",
       "         0,   0,   0,   0,   0,   0,   0,   0,   0,   0,   0,   0,   0,\n",
       "         0,   0,   0,   0,   0,   0,   0,   0,   0,   0, 213, 255, 122,\n",
       "         0,   0,   0,   0,   0,   0,   0,   0,   0,   0,   0,   0,   0,\n",
       "         0,   0,   0,   0,   0,   0,   0,   0,   0,   0,   0,   0,  92,\n",
       "       254, 196,   0,   0,   0,   0,   0,   0,   0,   0,   0,   0,   0,\n",
       "         0,   0,   0,   0,   0,   0,   0,   0,   0,   0,   0,   0,   0,\n",
       "         0,  40, 254, 196,   0,   0,   0,   0,   0,   0,   0,   0,   0,\n",
       "         0,   0,   0,   0,   0,   0,   0,   0,   0,   0,   0,   0,   0,\n",
       "         0,   0,   0, 145, 254, 196,   0,   0,   0,   0,   0,   0,   0,\n",
       "         0,   0,   0,   0,   0,   0,   0,  31, 188,  45,   0,   0,   0,\n",
       "         0,   0,   0,   0,  99, 249, 254, 121,   0,   0,   0,   0,   0,\n",
       "         0,   0,   0,   0,   0,   0,   0,   0,   0, 139, 245,  45,   0,\n",
       "         0,   0,   0,   0,   0, 140, 254, 254, 133,   0,   0,   0,   0,\n",
       "         0,   0,   0,   0,   0,   0,   0,   0,   0,   0,  17, 242, 169,\n",
       "         0,   0,   0,   0,   4,  58, 216, 248, 254, 167,   9,   0,   0,\n",
       "         0,   0,   0,   0,   0,   0,   0,   0,   0,   0,   0,   0,  14,\n",
       "       230, 196,  79,  49,  79,  79, 181, 254, 254, 247, 108,   6,   0,\n",
       "         0,   0,   0,   0,   0,   0,   0,   0,   0,   0,   0,   0,   0,\n",
       "         0,   0,  44, 213, 254, 247, 254, 254, 254, 254, 192,  32,   0,\n",
       "         0,   0,   0,   0,   0,   0,   0,   0,   0,   0,   0,   0,   0,\n",
       "         0,   0,   0,   0,   0,   9, 133, 156, 193, 155, 140,  58,   0,\n",
       "         0,   0,   0,   0,   0,   0,   0,   0,   0,   0,   0,   0,   0,\n",
       "         0,   0,   0,   0,   0,   0,   0,   0,   0,   0,   0,   0,   0,\n",
       "         0,   0,   0,   0,   0,   0,   0,   0,   0,   0,   0,   0,   0,\n",
       "         0,   0,   0,   0,   0,   0,   0,   0,   0,   0,   0,   0,   0,\n",
       "         0,   0,   0,   0,   0,   0,   0,   0,   0,   0,   0,   0,   0,\n",
       "         0,   0,   0,   0,   0,   0,   0,   0,   0,   0,   0,   0,   0,\n",
       "         0,   0,   0,   0,   0,   0,   0,   0,   0,   0,   0,   0,   0,\n",
       "         0,   0,   0,   0,   0], dtype=uint8)"
      ]
     },
     "execution_count": 5,
     "metadata": {},
     "output_type": "execute_result"
    }
   ],
   "source": [
    "data[0]"
   ]
  },
  {
   "cell_type": "code",
   "execution_count": 6,
   "metadata": {},
   "outputs": [],
   "source": [
    "X = data[:,1:]\n",
    "y = data[:,0]"
   ]
  },
  {
   "cell_type": "code",
   "execution_count": 7,
   "metadata": {},
   "outputs": [
    {
     "data": {
      "text/plain": [
       "array([[0, 0, 0, ..., 0, 0, 0],\n",
       "       [0, 0, 0, ..., 0, 0, 0],\n",
       "       [0, 0, 0, ..., 0, 0, 0],\n",
       "       ...,\n",
       "       [0, 0, 0, ..., 0, 0, 0],\n",
       "       [0, 0, 0, ..., 0, 0, 0],\n",
       "       [0, 0, 0, ..., 0, 0, 0]], dtype=uint8)"
      ]
     },
     "execution_count": 7,
     "metadata": {},
     "output_type": "execute_result"
    }
   ],
   "source": [
    "X"
   ]
  },
  {
   "cell_type": "code",
   "execution_count": 8,
   "metadata": {},
   "outputs": [
    {
     "data": {
      "text/plain": [
       "array([5, 7, 9, ..., 2, 9, 5], dtype=uint8)"
      ]
     },
     "execution_count": 8,
     "metadata": {},
     "output_type": "execute_result"
    }
   ],
   "source": [
    "y"
   ]
  },
  {
   "cell_type": "code",
   "execution_count": 9,
   "metadata": {},
   "outputs": [
    {
     "data": {
      "text/plain": [
       "(19999, 784)"
      ]
     },
     "execution_count": 9,
     "metadata": {},
     "output_type": "execute_result"
    }
   ],
   "source": [
    "X.shape"
   ]
  },
  {
   "cell_type": "code",
   "execution_count": 10,
   "metadata": {},
   "outputs": [
    {
     "data": {
      "text/plain": [
       "(19999,)"
      ]
     },
     "execution_count": 10,
     "metadata": {},
     "output_type": "execute_result"
    }
   ],
   "source": [
    "y.shape"
   ]
  },
  {
   "cell_type": "code",
   "execution_count": 11,
   "metadata": {},
   "outputs": [
    {
     "data": {
      "text/plain": [
       "<matplotlib.image.AxesImage at 0x193710276d8>"
      ]
     },
     "execution_count": 11,
     "metadata": {},
     "output_type": "execute_result"
    },
    {
     "data": {
      "image/png": "[encoded data removed]",
      "text/plain": [
       "<Figure size 432x288 with 1 Axes>"
      ]
     },
     "metadata": {
      "needs_background": "light"
     },
     "output_type": "display_data"
    }
   ],
   "source": [
    "plt.imshow(X[0].reshape(28,28))"
   ]
  },
  {
   "cell_type": "code",
   "execution_count": 12,
   "metadata": {},
   "outputs": [
    {
     "data": {
      "text/plain": [
       "<matplotlib.image.AxesImage at 0x1937111c160>"
      ]
     },
     "execution_count": 12,
     "metadata": {},
     "output_type": "execute_result"
    },
    {
     "data": {
      "image/png": "[encoded data removed]",
      "text/plain": [
       "<Figure size 432x288 with 1 Axes>"
      ]
     },
     "metadata": {
      "needs_background": "light"
     },
     "output_type": "display_data"
    }
   ],
   "source": [
    "plt.imshow(X[0].reshape(28,28),cmap = 'gray')"
   ]
  },
  {
   "cell_type": "code",
   "execution_count": 13,
   "metadata": {},
   "outputs": [
    {
     "data": {
      "text/plain": [
       "5"
      ]
     },
     "execution_count": 13,
     "metadata": {},
     "output_type": "execute_result"
    }
   ],
   "source": [
    "y[0]"
   ]
  },
  {
   "cell_type": "code",
   "execution_count": 14,
   "metadata": {},
   "outputs": [
    {
     "data": {
      "text/plain": [
       "<matplotlib.image.AxesImage at 0x1937115dc88>"
      ]
     },
     "execution_count": 14,
     "metadata": {},
     "output_type": "execute_result"
    },
    {
     "data": {
      "image/png": "[encoded data removed]",
      "text/plain": [
       "<Figure size 432x288 with 1 Axes>"
      ]
     },
     "metadata": {
      "needs_background": "light"
     },
     "output_type": "display_data"
    }
   ],
   "source": [
    "plt.imshow(X[564].reshape(28,28),cmap = 'gray')"
   ]
  },
  {
   "cell_type": "code",
   "execution_count": 15,
   "metadata": {},
   "outputs": [
    {
     "data": {
      "text/plain": [
       "7"
      ]
     },
     "execution_count": 15,
     "metadata": {},
     "output_type": "execute_result"
    }
   ],
   "source": [
    "y[564]"
   ]
  },
  {
   "cell_type": "code",
   "execution_count": 16,
   "metadata": {},
   "outputs": [],
   "source": [
    "X,y = make_blobs(n_samples=100, centers = 3, random_state = 42)"
   ]
  },
  {
   "cell_type": "code",
   "execution_count": 17,
   "metadata": {},
   "outputs": [
    {
     "data": {
      "text/plain": [
       "<matplotlib.collections.PathCollection at 0x193711e3588>"
      ]
     },
     "execution_count": 17,
     "metadata": {},
     "output_type": "execute_result"
    },
    {
     "data": {
      "image/png": "[encoded data removed]",
      "text/plain": [
       "<Figure size 432x288 with 1 Axes>"
      ]
     },
     "metadata": {
      "needs_background": "light"
     },
     "output_type": "display_data"
    }
   ],
   "source": [
    "plt.scatter(X[:,0],X[:,1], c=y)"
   ]
  },
  {
   "cell_type": "code",
   "execution_count": 18,
   "metadata": {},
   "outputs": [
    {
     "data": {
      "text/plain": [
       "array([[-7.72642091, -8.39495682],\n",
       "       [ 5.45339605,  0.74230537],\n",
       "       [-2.97867201,  9.55684617],\n",
       "       [ 6.04267315,  0.57131862],\n",
       "       [-6.52183983, -6.31932507],\n",
       "       [ 3.64934251,  1.40687195],\n",
       "       [-2.17793419,  9.98983126],\n",
       "       [ 4.42020695,  2.33028226],\n",
       "       [ 4.73695639,  2.94181467],\n",
       "       [-3.6601912 ,  9.38998415],\n",
       "       [-3.05358035,  9.12520872],\n",
       "       [-6.65216726, -5.57296684],\n",
       "       [-6.35768563, -6.58312492],\n",
       "       [-3.6155326 ,  7.8180795 ],\n",
       "       [-1.77073104,  9.18565441],\n",
       "       [-7.95051969, -6.39763718],\n",
       "       [-6.60293639, -6.05292634],\n",
       "       [-2.58120774, 10.01781903],\n",
       "       [-7.76348463, -6.72638449],\n",
       "       [-6.40638957, -6.95293851],\n",
       "       [-2.97261532,  8.54855637],\n",
       "       [-6.9567289 , -6.53895762],\n",
       "       [-7.32614214, -6.0237108 ],\n",
       "       [-2.14780202, 10.55232269],\n",
       "       [-2.54502366, 10.57892978],\n",
       "       [-2.96983639, 10.07140835],\n",
       "       [ 3.22450809,  1.55252436],\n",
       "       [-6.25395984, -7.73726715],\n",
       "       [-7.85430886, -6.09302499],\n",
       "       [-8.1165779 , -8.20056621],\n",
       "       [-7.55965191, -6.6478559 ],\n",
       "       [ 4.93599911,  2.23422496],\n",
       "       [ 4.44751787,  2.27471703],\n",
       "       [-5.72103161, -7.70079191],\n",
       "       [-0.92998481,  9.78172086],\n",
       "       [-3.10983631,  8.72259238],\n",
       "       [-2.44166942,  7.58953794],\n",
       "       [-2.18511365,  8.62920385],\n",
       "       [ 5.55528095,  2.30192079],\n",
       "       [ 4.73163961, -0.01439923],\n",
       "       [-8.25729656, -7.81793463],\n",
       "       [-2.98837186,  8.82862715],\n",
       "       [ 4.60516707,  0.80449165],\n",
       "       [-3.83738367,  9.21114736],\n",
       "       [-2.62484591,  8.71318243],\n",
       "       [ 3.57757512,  2.44676211],\n",
       "       [-8.48711043, -6.69547573],\n",
       "       [-6.70644627, -6.49479221],\n",
       "       [-6.8666253 , -5.42657552],\n",
       "       [ 3.83138523,  1.47141264],\n",
       "       [ 2.02013373,  2.79507219],\n",
       "       [ 4.64499229,  1.73858255],\n",
       "       [-1.6966718 , 10.37052616],\n",
       "       [-6.6197444 , -6.09828672],\n",
       "       [-6.05756703, -4.98331661],\n",
       "       [-7.10308998, -6.1661091 ],\n",
       "       [-3.52202874,  9.32853346],\n",
       "       [-2.26723535,  7.10100588],\n",
       "       [ 6.11777288,  1.45489947],\n",
       "       [-4.23411546,  8.4519986 ],\n",
       "       [-6.58655472, -7.59446101],\n",
       "       [ 3.93782574,  1.64550754],\n",
       "       [-7.12501531, -7.63384576],\n",
       "       [ 2.72110762,  1.94665581],\n",
       "       [-7.14428402, -4.15994043],\n",
       "       [-6.66553345, -8.12584837],\n",
       "       [ 4.70010905,  4.4364118 ],\n",
       "       [-7.76914162, -7.69591988],\n",
       "       [ 4.11011863,  2.48643712],\n",
       "       [ 4.89742923,  1.89872377],\n",
       "       [ 4.29716432,  1.17089241],\n",
       "       [-6.62913434, -6.53366138],\n",
       "       [-8.07093069, -6.22355598],\n",
       "       [-2.16557933,  7.25124597],\n",
       "       [ 4.7395302 ,  1.46969403],\n",
       "       [-5.91625106, -6.46732867],\n",
       "       [ 5.43091078,  1.06378223],\n",
       "       [-6.82141847, -8.02307989],\n",
       "       [ 6.52606474,  2.1477475 ],\n",
       "       [ 3.08921541,  2.04173266],\n",
       "       [-2.1475616 ,  8.36916637],\n",
       "       [ 3.85662554,  1.65110817],\n",
       "       [-1.68665271,  7.79344248],\n",
       "       [-5.01385268, -6.40627667],\n",
       "       [-2.52269485,  7.9565752 ],\n",
       "       [-2.30033403,  7.054616  ],\n",
       "       [-1.04354885,  8.78850983],\n",
       "       [ 3.7204546 ,  3.52310409],\n",
       "       [-3.98771961,  8.29444192],\n",
       "       [ 4.24777068,  0.50965474],\n",
       "       [ 4.7269259 ,  1.67416233],\n",
       "       [ 5.78270165,  2.72510272],\n",
       "       [-3.4172217 ,  7.60198243],\n",
       "       [ 5.22673593,  4.16362531],\n",
       "       [-3.11090424, 10.86656431],\n",
       "       [-3.18611962,  9.62596242],\n",
       "       [-1.4781981 ,  9.94556625],\n",
       "       [ 4.47859312,  2.37722054],\n",
       "       [-5.79657595, -5.82630754],\n",
       "       [-3.34841515,  8.70507375]])"
      ]
     },
     "execution_count": 18,
     "metadata": {},
     "output_type": "execute_result"
    }
   ],
   "source": [
    "X"
   ]
  },
  {
   "cell_type": "code",
   "execution_count": 19,
   "metadata": {},
   "outputs": [
    {
     "data": {
      "text/plain": [
       "(array([[-7.72642091, -8.39495682],\n",
       "        [ 5.45339605,  0.74230537],\n",
       "        [-2.97867201,  9.55684617],\n",
       "        [ 6.04267315,  0.57131862],\n",
       "        [-6.52183983, -6.31932507]]), array([2, 1, 0, 1, 2]))"
      ]
     },
     "execution_count": 19,
     "metadata": {},
     "output_type": "execute_result"
    }
   ],
   "source": [
    "X[:5], y[:5]"
   ]
  },
  {
   "cell_type": "code",
   "execution_count": 20,
   "metadata": {},
   "outputs": [],
   "source": [
    "X,y = make_blobs(n_samples=1000,n_features = 3,centers = 3, random_state = 42)"
   ]
  },
  {
   "cell_type": "code",
   "execution_count": 29,
   "metadata": {},
   "outputs": [],
   "source": [
    "fig = plt.figure(figsize = (10, 7))"
   ]
  },
  {
   "cell_type": "code",
   "execution_count": 40,
   "metadata": {},
   "outputs": [],
   "source": [
    "ax = plt.axes(projection =\"3d\")"
   ]
  },
  {
   "cell_type": "code",
   "execution_count": 36,
   "metadata": {},
   "outputs": [
    {
     "data": {
      "text/plain": [
       "<mpl_toolkits.mplot3d.art3d.Path3DCollection at 0x1937225beb8>"
      ]
     },
     "execution_count": 36,
     "metadata": {},
     "output_type": "execute_result"
    }
   ],
   "source": [
    "ax.scatter3D(X[:,0],X[:,1],X[:,1:2],c=y)"
   ]
  },
  {
   "cell_type": "code",
   "execution_count": 41,
   "metadata": {},
   "outputs": [],
   "source": [
    "plt.show()"
   ]
  },
  {
   "cell_type": "code",
   "execution_count": 25,
   "metadata": {},
   "outputs": [
    {
     "data": {
      "text/plain": [
       "array([[-1.62313406,  8.87720831,  4.84001326],\n",
       "       [ 1.71267112, -5.15279335, -6.78367587],\n",
       "       [-1.94449656,  8.37968109,  5.63563107],\n",
       "       ...,\n",
       "       [ 2.36525421, -7.06852388, -6.32703632],\n",
       "       [-9.94151051,  7.01098018,  0.36757196],\n",
       "       [-1.73549721,  8.47614447,  3.29320074]])"
      ]
     },
     "execution_count": 25,
     "metadata": {},
     "output_type": "execute_result"
    }
   ],
   "source": [
    "X"
   ]
  },
  {
   "cell_type": "code",
   "execution_count": null,
   "metadata": {},
   "outputs": [],
   "source": []
  }
 ],
 "metadata": {
  "kernelspec": {
   "display_name": "Python 3",
   "language": "python",
   "name": "python3"
  },
  "language_info": {
   "codemirror_mode": {
    "name": "ipython",
    "version": 3
   },
   "file_extension": ".py",
   "mimetype": "text/x-python",
   "name": "python",
   "nbconvert_exporter": "python",
   "pygments_lexer": "ipython3",
   "version": "3.7.1"
  }
 },
 "nbformat": 4,
 "nbformat_minor": 4
}
