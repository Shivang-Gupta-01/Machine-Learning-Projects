{
 "cells": [
  {
   "cell_type": "code",
   "execution_count": 1,
   "metadata": {},
   "outputs": [
    {
     "name": "stderr",
     "output_type": "stream",
     "text": [
      "C:\\Users\\shivang\\Anaconda3\\lib\\site-packages\\numpy\\_distributor_init.py:32: UserWarning: loaded more than 1 DLL from .libs:\n",
      "C:\\Users\\shivang\\Anaconda3\\lib\\site-packages\\numpy\\.libs\\libopenblas.PYQHXLVVQ7VESDPUVUADXEVJOBGHJPAY.gfortran-win_amd64.dll\n",
      "C:\\Users\\shivang\\Anaconda3\\lib\\site-packages\\numpy\\.libs\\libopenblas.QVLO2T66WEPI7JZ63PS3HMOHFEY472BC.gfortran-win_amd64.dll\n",
      "  stacklevel=1)\n"
     ]
    },
    {
     "name": "stdout",
     "output_type": "stream",
     "text": [
      "Using matplotlib backend: Qt5Agg\n",
      "Populating the interactive namespace from numpy and matplotlib\n"
     ]
    }
   ],
   "source": [
    "import numpy as np\n",
    "import matplotlib.pyplot as plt\n",
    "%pylab\n",
    "from mpl_toolkits import mplot3d\n",
    "from sklearn.datasets import make_blobs\n",
    "from sklearn.model_selection import train_test_split"
   ]
  },
  {
   "cell_type": "code",
   "execution_count": 2,
   "metadata": {},
   "outputs": [],
   "source": [
    "data = np.load(r'C:\\Users\\shivang\\Desktop\\PROJECTS\\Python-ML\\datasets\\mnist_train_small.npy')\n",
    "X =  data[:,1:]\n",
    "y = data[:,0]\n",
    "X_train, X_test, y_train,y_test = train_test_split(X,y,test_size = 0.33, random_state = 42)"
   ]
  },
  {
   "cell_type": "code",
   "execution_count": 3,
   "metadata": {},
   "outputs": [],
   "source": [
    "class CustomKNN:\n",
    "    # constructor\n",
    "    def __init__(self, n_neighbours=5):\n",
    "        self.n_neighbours = n_neighbours\n",
    "        \n",
    "    # training function\n",
    "    def fit(self, X, y):\n",
    "        self._X = (X - X.mean()) / X.std() # standardisation\n",
    "        self._y = y\n",
    "    \n",
    "    # predict point\n",
    "    # given a single point, tell me which class it belongs to \n",
    "    def predict_point(self, point):\n",
    "        # storing the dis of given 'point' from each point in training data\n",
    "        list_dist = []\n",
    "        \n",
    "        # these points are from my training data\n",
    "        for x_point, y_point in zip(self._X, self._y):\n",
    "            dist_point = ((point - x_point) ** 2).sum()\n",
    "            list_dist.append([dist_point, y_point])\n",
    "        \n",
    "        ## sorting the list according to the distance\n",
    "        sorted_dist = sorted(list_dist)\n",
    "        top_k = sorted_dist[:self.n_neighbours]\n",
    "        \n",
    "        # taking the count \n",
    "        items, counts = np.unique(np.array(top_k)[:, 1], return_counts=True)\n",
    "        ans = items[np.argmax(counts)]\n",
    "        return ans\n",
    "            \n",
    "    # predict\n",
    "    # give me answer for each number in the array\n",
    "    def predict(self, X):\n",
    "        results = []\n",
    "        X = (X - X.mean()) / X.std() \n",
    "        for point in X:\n",
    "            results.append(self.predict_point(point))\n",
    "        return np.array(results, dtype=int)\n",
    "    \n",
    "    # score to measure my accuracy\n",
    "    def score(self, X, y):\n",
    "        return sum(self.predict(X) == y) / len(y)"
   ]
  },
  {
   "cell_type": "code",
   "execution_count": 4,
   "metadata": {},
   "outputs": [],
   "source": [
    "#Demo\n",
    "m2 = CustomKNN()"
   ]
  },
  {
   "cell_type": "code",
   "execution_count": 5,
   "metadata": {},
   "outputs": [],
   "source": [
    "m2.fit(X_train, y_train)"
   ]
  },
  {
   "cell_type": "code",
   "execution_count": 6,
   "metadata": {},
   "outputs": [
    {
     "data": {
      "text/plain": [
       "array([1, 7, 0, 9, 4, 5, 4, 6, 9, 2, 0, 6, 1, 9, 9, 4, 9, 1, 6, 2, 7, 9,\n",
       "       9, 2, 4, 4, 5, 6, 0, 5])"
      ]
     },
     "execution_count": 6,
     "metadata": {},
     "output_type": "execute_result"
    }
   ],
   "source": [
    "m2.predict(X_test[:30])"
   ]
  },
  {
   "cell_type": "code",
   "execution_count": 9,
   "metadata": {},
   "outputs": [
    {
     "data": {
      "text/plain": [
       "array([7, 7, 0, 9, 4, 5, 4, 6, 9, 2, 0, 6, 1, 9, 9, 4, 9, 1, 6, 2, 7, 9,\n",
       "       4, 2, 4, 4, 5, 6, 0, 8], dtype=uint8)"
      ]
     },
     "execution_count": 9,
     "metadata": {},
     "output_type": "execute_result"
    }
   ],
   "source": [
    "y_test[:30]"
   ]
  },
  {
   "cell_type": "code",
   "execution_count": 10,
   "metadata": {},
   "outputs": [
    {
     "data": {
      "text/plain": [
       "0.95"
      ]
     },
     "execution_count": 10,
     "metadata": {},
     "output_type": "execute_result"
    }
   ],
   "source": [
    "m2.score(X_test[:100],y_test[:100])"
   ]
  },
  {
   "cell_type": "code",
   "execution_count": null,
   "metadata": {},
   "outputs": [],
   "source": [
    "#  why did we use\n",
    "# X = X.astype(np.int64) is because there are 784 dimensions in the datset and calcuating the entire algorithm ggoes out of space and memeory\\\n",
    "#therofore we use np.int64"
   ]
  }
 ],
 "metadata": {
  "kernelspec": {
   "display_name": "Python 3",
   "language": "python",
   "name": "python3"
  },
  "language_info": {
   "codemirror_mode": {
    "name": "ipython",
    "version": 3
   },
   "file_extension": ".py",
   "mimetype": "text/x-python",
   "name": "python",
   "nbconvert_exporter": "python",
   "pygments_lexer": "ipython3",
   "version": "3.7.1"
  }
 },
 "nbformat": 4,
 "nbformat_minor": 4
}
