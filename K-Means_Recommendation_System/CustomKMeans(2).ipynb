{
 "cells": [
  {
   "cell_type": "code",
   "execution_count": 5,
   "metadata": {},
   "outputs": [],
   "source": [
    "import numpy as np\n",
    "import pandas as pd\n",
    "import matplotlib.pyplot as plt\n",
    "from sklearn.datasets import make_blobs\n",
    "from sklearn.cluster import KMeans\n",
    "import seaborn as sns\n",
    "import random"
   ]
  },
  {
   "cell_type": "code",
   "execution_count": 6,
   "metadata": {},
   "outputs": [],
   "source": [
    "X,y = make_blobs(centers=3, random_state=42)"
   ]
  },
  {
   "cell_type": "code",
   "execution_count": 7,
   "metadata": {},
   "outputs": [],
   "source": [
    "class Cluster:\n",
    "    \n",
    "    def __init__(self, center, label):\n",
    "        self.center =  center\n",
    "        self.label = label\n",
    "        self.points = []\n",
    "    \n",
    "    def relocate(self):\n",
    "        self.center = np.mean(self.points,axis=0)\n",
    "        self.points= []\n",
    "    \n",
    "    def distance(self, point):\n",
    "        return np.sqrt(((self.center-point)**2).sum())\n",
    "        \n",
    "        "
   ]
  },
  {
   "cell_type": "code",
   "execution_count": 31,
   "metadata": {},
   "outputs": [],
   "source": [
    "class KMeansCustom:\n",
    "    \n",
    "    def __init__(self, n_clusters=3, max_iters=20,n_init=10):\n",
    "        self.n_clusters = n_clusters\n",
    "        self.max_iters = max_iters\n",
    "        self.n_init = n_init\n",
    "    \n",
    "    def fit(self,X):\n",
    "        \n",
    "        self.__X = X\n",
    "        steps = []\n",
    "        \n",
    "        for simulation in range(self.n_clusters):\n",
    "            clusters =[]\n",
    "            \n",
    "            for i in range(self.n_clusters):\n",
    "                cluster = Cluster(random.choice(X),i)\n",
    "                clusters.append(cluster)\n",
    "        \n",
    "            errors =[]\n",
    "        \n",
    "            for i in range(self.max_iters):\n",
    "                labels = []\n",
    "            \n",
    "                for point in X:\n",
    "                    distances =[]\n",
    "                \n",
    "                    for cluster in clusters:\n",
    "                        dis = cluster.distance(point)\n",
    "                        distances.append((dis,cluster))\n",
    "\n",
    "                    index = np.array(distances)[:,0].argmin()\n",
    "                    selected_dis, selected_cluster = distances[index]\n",
    "                    selected_cluster.points.append(point)\n",
    "                    labels.append(selected_cluster.label)\n",
    "            \n",
    "            \n",
    "                for cluster in clusters:\n",
    "                    cluster.relocate()\n",
    "            \n",
    "                error.append(self.error(labels,clusters))\n",
    "        \n",
    "            final_error = error[-1]\n",
    "            steps.append((final_error, labels, clusters))\n",
    "        \n",
    "        index = np.array(steps)[:,0].argmin()\n",
    "        result_err, result_labels, result_clusters =steps[index]\n",
    "    \n",
    "        self.labels = result_labels\n",
    "        self.cluster_centers_ = [cluster.center for cluster in result_clusters]\n",
    "    \n",
    "        return result_err\n",
    "\n",
    "    def error(self, labels, clusters):\n",
    "        error =0\n",
    "        \n",
    "        for point,label in zip(self.__X,labels):\n",
    "            cluster = clusters[label]\n",
    "            error += cluster.distance(point)\n",
    "            \n",
    "        return error\n",
    "        \n",
    "\n",
    " \n",
    "    \n",
    "    "
   ]
  },
  {
   "cell_type": "code",
   "execution_count": 14,
   "metadata": {},
   "outputs": [
    {
     "data": {
      "text/plain": [
       "array([2.02013373, 2.79507219])"
      ]
     },
     "execution_count": 14,
     "metadata": {},
     "output_type": "execute_result"
    }
   ],
   "source": [
    "random.choice(X)"
   ]
  },
  {
   "cell_type": "code",
   "execution_count": 33,
   "metadata": {},
   "outputs": [
    {
     "name": "stderr",
     "output_type": "stream",
     "text": [
      "C:\\Users\\shivang\\Anaconda3\\lib\\site-packages\\ipykernel_launcher.py:46: VisibleDeprecationWarning: Creating an ndarray from ragged nested sequences (which is a list-or-tuple of lists-or-tuples-or ndarrays with different lengths or shapes) is deprecated. If you meant to do this, you must specify 'dtype=object' when creating the ndarray\n",
      "C:\\Users\\shivang\\Anaconda3\\lib\\site-packages\\numpy\\core\\fromnumeric.py:3373: RuntimeWarning: Mean of empty slice.\n",
      "  out=out, **kwargs)\n",
      "C:\\Users\\shivang\\Anaconda3\\lib\\site-packages\\numpy\\core\\_methods.py:170: RuntimeWarning: invalid value encountered in double_scalars\n",
      "  ret = ret.dtype.type(ret / rcount)\n"
     ]
    }
   ],
   "source": [
    "errors = []\n",
    "\n",
    "for i in range(2,7):\n",
    "    model = KMeansCustom(i,n_init=10)\n",
    "    err = model.fit(X)\n",
    "    errors.append(err)"
   ]
  },
  {
   "cell_type": "code",
   "execution_count": 34,
   "metadata": {},
   "outputs": [
    {
     "data": {
      "text/plain": [
       "[378.97856787197094,\n",
       " 117.64800966133758,\n",
       " 108.91142926445669,\n",
       " 100.2592572746354,\n",
       " 95.52334990884256]"
      ]
     },
     "execution_count": 34,
     "metadata": {},
     "output_type": "execute_result"
    }
   ],
   "source": [
    "errors"
   ]
  },
  {
   "cell_type": "code",
   "execution_count": 35,
   "metadata": {},
   "outputs": [
    {
     "data": {
      "text/plain": [
       "[<matplotlib.lines.Line2D at 0x1eff6cf92b0>]"
      ]
     },
     "execution_count": 35,
     "metadata": {},
     "output_type": "execute_result"
    },
    {
     "data": {
      "image/png": "[encoded data removed]",
      "text/plain": [
       "<Figure size 432x288 with 1 Axes>"
      ]
     },
     "metadata": {
      "needs_background": "light"
     },
     "output_type": "display_data"
    }
   ],
   "source": [
    "plt.plot(np.arange(2,7),errors)"
   ]
  },
  {
   "cell_type": "code",
   "execution_count": 39,
   "metadata": {},
   "outputs": [
    {
     "name": "stderr",
     "output_type": "stream",
     "text": [
      "C:\\Users\\shivang\\Anaconda3\\lib\\site-packages\\ipykernel_launcher.py:46: VisibleDeprecationWarning: Creating an ndarray from ragged nested sequences (which is a list-or-tuple of lists-or-tuples-or ndarrays with different lengths or shapes) is deprecated. If you meant to do this, you must specify 'dtype=object' when creating the ndarray\n"
     ]
    },
    {
     "data": {
      "image/png": "[encoded data removed]",
      "text/plain": [
       "<Figure size 432x288 with 1 Axes>"
      ]
     },
     "metadata": {
      "needs_background": "light"
     },
     "output_type": "display_data"
    }
   ],
   "source": [
    "model = KMeansCustom(n_clusters=2)\n",
    "model.fit(X)\n",
    "y_gen = model.labels\n",
    "sns.scatterplot(X[:,0],X[:,1],hue=y_gen)\n",
    "for center in model.cluster_centers_:\n",
    "    plt.scatter(center[0],center[1], s=60)"
   ]
  },
  {
   "cell_type": "code",
   "execution_count": null,
   "metadata": {},
   "outputs": [],
   "source": []
  }
 ],
 "metadata": {
  "kernelspec": {
   "display_name": "Python 3",
   "language": "python",
   "name": "python3"
  },
  "language_info": {
   "codemirror_mode": {
    "name": "ipython",
    "version": 3
   },
   "file_extension": ".py",
   "mimetype": "text/x-python",
   "name": "python",
   "nbconvert_exporter": "python",
   "pygments_lexer": "ipython3",
   "version": "3.7.1"
  }
 },
 "nbformat": 4,
 "nbformat_minor": 4
}
